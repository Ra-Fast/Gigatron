{
 "cells": [
  {
   "cell_type": "code",
   "execution_count": 1,
   "metadata": {},
   "outputs": [
    {
     "name": "stdout",
     "output_type": "stream",
     "text": [
      "Entropy: 2.698000564866574\n"
     ]
    }
   ],
   "source": [
    "import numpy as np\n",
    "from scipy.stats import entropy\n",
    "\n",
    "def calculate_continuous_entropy(data, num_bins=10):\n",
    "    # Discretize the data into bins\n",
    "    bins = np.histogram_bin_edges(data, bins=num_bins)\n",
    "    \n",
    "    # Create a histogram of the data\n",
    "    hist, _ = np.histogram(data, bins=bins, density=True)\n",
    "    \n",
    "    # Calculate entropy using the histogram\n",
    "    entropy_value = entropy(hist, base=2)\n",
    "    \n",
    "    return entropy_value\n",
    "\n",
    "# Example dataset with continuous variables\n",
    "continuous_data = np.random.normal(loc=0, scale=1, size=1000)\n",
    "\n",
    "# Calculate entropy\n",
    "entropy_result = calculate_continuous_entropy(continuous_data)\n",
    "print(f\"Entropy: {entropy_result}\")\n"
   ]
  },
  {
   "cell_type": "code",
   "execution_count": 2,
   "metadata": {},
   "outputs": [
    {
     "name": "stdout",
     "output_type": "stream",
     "text": [
      "(10, 2)\n"
     ]
    }
   ],
   "source": [
    "from sklearn.datasets import make_blobs\n",
    "X, y = make_blobs(n_samples=10, centers=3, n_features=2, random_state=0)\n",
    "print(X.shape)"
   ]
  },
  {
   "cell_type": "code",
   "execution_count": 5,
   "metadata": {},
   "outputs": [
    {
     "name": "stdout",
     "output_type": "stream",
     "text": [
      "2.7659573209491746\n"
     ]
    }
   ],
   "source": [
    "print(calculate_continuous_entropy(X))"
   ]
  },
  {
   "cell_type": "code",
   "execution_count": 6,
   "metadata": {},
   "outputs": [],
   "source": [
    "bins = np.histogram_bin_edges(X, bins=10)"
   ]
  },
  {
   "cell_type": "code",
   "execution_count": 7,
   "metadata": {},
   "outputs": [
    {
     "data": {
      "text/plain": [
       "array([-4.07989383, -3.09609836, -2.1123029 , -1.12850743, -0.14471196,\n",
       "        0.8390835 ,  1.82287897,  2.80667444,  3.7904699 ,  4.77426537,\n",
       "        5.75806083])"
      ]
     },
     "execution_count": 7,
     "metadata": {},
     "output_type": "execute_result"
    }
   ],
   "source": [
    "bins"
   ]
  },
  {
   "cell_type": "code",
   "execution_count": 15,
   "metadata": {},
   "outputs": [],
   "source": [
    "hist,_=np.histogram(X, bins=bins, density=True)"
   ]
  },
  {
   "cell_type": "code",
   "execution_count": 16,
   "metadata": {},
   "outputs": [
    {
     "data": {
      "text/plain": [
       "array([0.05082357, 0.        , 0.        , 0.05082357, 0.15247072,\n",
       "       0.25411786, 0.20329429, 0.10164714, 0.15247072, 0.05082357])"
      ]
     },
     "execution_count": 16,
     "metadata": {},
     "output_type": "execute_result"
    }
   ],
   "source": [
    "hist"
   ]
  },
  {
   "cell_type": "code",
   "execution_count": 17,
   "metadata": {},
   "outputs": [
    {
     "data": {
      "text/plain": [
       "1.0164714457502428"
      ]
     },
     "execution_count": 17,
     "metadata": {},
     "output_type": "execute_result"
    }
   ],
   "source": [
    "hist.sum()"
   ]
  }
 ],
 "metadata": {
  "kernelspec": {
   "display_name": "entornoGPU",
   "language": "python",
   "name": "entornogpu"
  },
  "language_info": {
   "codemirror_mode": {
    "name": "ipython",
    "version": 3
   },
   "file_extension": ".py",
   "mimetype": "text/x-python",
   "name": "python",
   "nbconvert_exporter": "python",
   "pygments_lexer": "ipython3",
   "version": "3.7.16"
  }
 },
 "nbformat": 4,
 "nbformat_minor": 2
}
